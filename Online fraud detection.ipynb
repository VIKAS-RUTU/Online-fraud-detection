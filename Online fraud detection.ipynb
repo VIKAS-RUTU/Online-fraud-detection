{
 "cells": [
  {
   "cell_type": "markdown",
   "id": "217f4776-af4e-4bef-9d97-98685af5b91e",
   "metadata": {},
   "source": [
    "# Online fraud detection"
   ]
  },
  {
   "cell_type": "markdown",
   "id": "a4c5cc30-bbc8-4917-8df9-c3dfd291f73c",
   "metadata": {},
   "source": [
    "#### This project discusses on building the best machine learning algorithms to detect if the transaction is fraud or not (1 indicates fraud)\n",
    "#### 1) Primary focus will be on correctly identifying the fraud transaction as fraud\n",
    "#### 2) More than overall accuracy, let us build a model which has the least false negatives (prediction of fraud transaction as not fraud)"
   ]
  },
  {
   "cell_type": "code",
   "execution_count": 76,
   "id": "6a0160ea-d095-4fff-9be3-3bc2ef7d4029",
   "metadata": {},
   "outputs": [],
   "source": [
    "import numpy as np\n",
    "import pandas as pd\n",
    "import matplotlib.pyplot as plt\n",
    "import seaborn as sns"
   ]
  },
  {
   "cell_type": "code",
   "execution_count": 2,
   "id": "5014ec9a-5d25-4768-9ca5-041d437433d5",
   "metadata": {},
   "outputs": [
    {
     "data": {
      "text/html": [
       "<div>\n",
       "<style scoped>\n",
       "    .dataframe tbody tr th:only-of-type {\n",
       "        vertical-align: middle;\n",
       "    }\n",
       "\n",
       "    .dataframe tbody tr th {\n",
       "        vertical-align: top;\n",
       "    }\n",
       "\n",
       "    .dataframe thead th {\n",
       "        text-align: right;\n",
       "    }\n",
       "</style>\n",
       "<table border=\"1\" class=\"dataframe\">\n",
       "  <thead>\n",
       "    <tr style=\"text-align: right;\">\n",
       "      <th></th>\n",
       "      <th>step</th>\n",
       "      <th>type</th>\n",
       "      <th>amount</th>\n",
       "      <th>nameOrig</th>\n",
       "      <th>oldbalanceOrg</th>\n",
       "      <th>newbalanceOrig</th>\n",
       "      <th>nameDest</th>\n",
       "      <th>oldbalanceDest</th>\n",
       "      <th>newbalanceDest</th>\n",
       "      <th>isFraud</th>\n",
       "    </tr>\n",
       "  </thead>\n",
       "  <tbody>\n",
       "    <tr>\n",
       "      <th>0</th>\n",
       "      <td>1</td>\n",
       "      <td>PAYMENT</td>\n",
       "      <td>9839.64</td>\n",
       "      <td>C1231006815</td>\n",
       "      <td>170136.0</td>\n",
       "      <td>160296.36</td>\n",
       "      <td>M1979787155</td>\n",
       "      <td>0.0</td>\n",
       "      <td>0.0</td>\n",
       "      <td>0.0</td>\n",
       "    </tr>\n",
       "    <tr>\n",
       "      <th>1</th>\n",
       "      <td>1</td>\n",
       "      <td>PAYMENT</td>\n",
       "      <td>1864.28</td>\n",
       "      <td>C1666544295</td>\n",
       "      <td>21249.0</td>\n",
       "      <td>19384.72</td>\n",
       "      <td>M2044282225</td>\n",
       "      <td>0.0</td>\n",
       "      <td>0.0</td>\n",
       "      <td>0.0</td>\n",
       "    </tr>\n",
       "    <tr>\n",
       "      <th>2</th>\n",
       "      <td>1</td>\n",
       "      <td>TRANSFER</td>\n",
       "      <td>181.00</td>\n",
       "      <td>C1305486145</td>\n",
       "      <td>181.0</td>\n",
       "      <td>0.00</td>\n",
       "      <td>C553264065</td>\n",
       "      <td>0.0</td>\n",
       "      <td>0.0</td>\n",
       "      <td>1.0</td>\n",
       "    </tr>\n",
       "    <tr>\n",
       "      <th>3</th>\n",
       "      <td>1</td>\n",
       "      <td>CASH_OUT</td>\n",
       "      <td>181.00</td>\n",
       "      <td>C840083671</td>\n",
       "      <td>181.0</td>\n",
       "      <td>0.00</td>\n",
       "      <td>C38997010</td>\n",
       "      <td>21182.0</td>\n",
       "      <td>0.0</td>\n",
       "      <td>1.0</td>\n",
       "    </tr>\n",
       "    <tr>\n",
       "      <th>4</th>\n",
       "      <td>1</td>\n",
       "      <td>PAYMENT</td>\n",
       "      <td>11668.14</td>\n",
       "      <td>C2048537720</td>\n",
       "      <td>41554.0</td>\n",
       "      <td>29885.86</td>\n",
       "      <td>M1230701703</td>\n",
       "      <td>0.0</td>\n",
       "      <td>0.0</td>\n",
       "      <td>0.0</td>\n",
       "    </tr>\n",
       "  </tbody>\n",
       "</table>\n",
       "</div>"
      ],
      "text/plain": [
       "   step      type    amount     nameOrig  oldbalanceOrg  newbalanceOrig  \\\n",
       "0     1   PAYMENT   9839.64  C1231006815       170136.0       160296.36   \n",
       "1     1   PAYMENT   1864.28  C1666544295        21249.0        19384.72   \n",
       "2     1  TRANSFER    181.00  C1305486145          181.0            0.00   \n",
       "3     1  CASH_OUT    181.00   C840083671          181.0            0.00   \n",
       "4     1   PAYMENT  11668.14  C2048537720        41554.0        29885.86   \n",
       "\n",
       "      nameDest  oldbalanceDest  newbalanceDest  isFraud  \n",
       "0  M1979787155             0.0             0.0      0.0  \n",
       "1  M2044282225             0.0             0.0      0.0  \n",
       "2   C553264065             0.0             0.0      1.0  \n",
       "3    C38997010         21182.0             0.0      1.0  \n",
       "4  M1230701703             0.0             0.0      0.0  "
      ]
     },
     "execution_count": 2,
     "metadata": {},
     "output_type": "execute_result"
    }
   ],
   "source": [
    "data = pd.read_csv(\"onlinefraud.csv\")\n",
    "data.drop(\"isFlaggedFraud\", axis=1, inplace=True)\n",
    "data.head()"
   ]
  },
  {
   "cell_type": "code",
   "execution_count": 3,
   "id": "6e34db12-a81e-4d12-b76f-c26344868a7a",
   "metadata": {},
   "outputs": [
    {
     "data": {
      "text/plain": [
       "step              0\n",
       "type              0\n",
       "amount            0\n",
       "nameOrig          0\n",
       "oldbalanceOrg     0\n",
       "newbalanceOrig    0\n",
       "nameDest          0\n",
       "oldbalanceDest    1\n",
       "newbalanceDest    1\n",
       "isFraud           1\n",
       "dtype: int64"
      ]
     },
     "execution_count": 3,
     "metadata": {},
     "output_type": "execute_result"
    }
   ],
   "source": [
    "# Missing value treatment\n",
    "\n",
    "data.isnull().sum()"
   ]
  },
  {
   "cell_type": "code",
   "execution_count": 4,
   "id": "7e781d6b-5a0f-4ba5-9588-7b4da8e7eccd",
   "metadata": {},
   "outputs": [
    {
     "data": {
      "text/plain": [
       "step              0\n",
       "type              0\n",
       "amount            0\n",
       "nameOrig          0\n",
       "oldbalanceOrg     0\n",
       "newbalanceOrig    0\n",
       "nameDest          0\n",
       "oldbalanceDest    0\n",
       "newbalanceDest    0\n",
       "isFraud           0\n",
       "dtype: int64"
      ]
     },
     "execution_count": 4,
     "metadata": {},
     "output_type": "execute_result"
    }
   ],
   "source": [
    "data.dropna(how='any', inplace=True)\n",
    "data.isnull().sum()"
   ]
  },
  {
   "cell_type": "code",
   "execution_count": 5,
   "id": "91a23c70-2f4f-4830-be96-e42c6fb76822",
   "metadata": {},
   "outputs": [],
   "source": [
    "data['isFraud'] = data['isFraud'].astype(int)"
   ]
  },
  {
   "cell_type": "code",
   "execution_count": 6,
   "id": "4408dfd2-0acf-4c6f-a801-2f8a035ed1db",
   "metadata": {},
   "outputs": [
    {
     "data": {
      "image/png": "[encoded data removed]",
      "text/plain": [
       "<Figure size 432x288 with 1 Axes>"
      ]
     },
     "metadata": {
      "needs_background": "light"
     },
     "output_type": "display_data"
    }
   ],
   "source": [
    "# Data visualization\n",
    "\n",
    "sns.countplot(x='type', data=data)\n",
    "plt.show()"
   ]
  },
  {
   "cell_type": "code",
   "execution_count": 7,
   "id": "d85976ad-d0a4-4261-91fd-36b976f51b0a",
   "metadata": {},
   "outputs": [
    {
     "data": {
      "image/png": "[encoded data removed]",
      "text/plain": [
       "<Figure size 432x288 with 1 Axes>"
      ]
     },
     "metadata": {
      "needs_background": "light"
     },
     "output_type": "display_data"
    }
   ],
   "source": [
    "sns.barplot(x='type', y='amount', data=data)\n",
    "plt.show()"
   ]
  },
  {
   "cell_type": "code",
   "execution_count": 8,
   "id": "8b122b2f-bdad-49d2-b6d3-ecccf3bf5455",
   "metadata": {},
   "outputs": [],
   "source": [
    "# Splitting the data\n",
    "\n",
    "x = data.drop(\"isFraud\", axis=1)\n",
    "y = data[\"isFraud\"]"
   ]
  },
  {
   "cell_type": "code",
   "execution_count": 9,
   "id": "da52f66e-5ba4-4b56-9e58-d4a1420910c1",
   "metadata": {},
   "outputs": [
    {
     "name": "stderr",
     "output_type": "stream",
     "text": [
      "/tmp/ipykernel_154/2709188919.py:3: FutureWarning: The default value of numeric_only in DataFrame.corr is deprecated. In a future version, it will default to False. Select only valid columns or specify the value of numeric_only to silence this warning.\n",
      "  corr_mat = x.corr()\n"
     ]
    },
    {
     "data": {
      "text/html": [
       "<div>\n",
       "<style scoped>\n",
       "    .dataframe tbody tr th:only-of-type {\n",
       "        vertical-align: middle;\n",
       "    }\n",
       "\n",
       "    .dataframe tbody tr th {\n",
       "        vertical-align: top;\n",
       "    }\n",
       "\n",
       "    .dataframe thead th {\n",
       "        text-align: right;\n",
       "    }\n",
       "</style>\n",
       "<table border=\"1\" class=\"dataframe\">\n",
       "  <thead>\n",
       "    <tr style=\"text-align: right;\">\n",
       "      <th></th>\n",
       "      <th>step</th>\n",
       "      <th>amount</th>\n",
       "      <th>oldbalanceOrg</th>\n",
       "      <th>newbalanceOrig</th>\n",
       "      <th>oldbalanceDest</th>\n",
       "      <th>newbalanceDest</th>\n",
       "    </tr>\n",
       "  </thead>\n",
       "  <tbody>\n",
       "    <tr>\n",
       "      <th>step</th>\n",
       "      <td>1.000000</td>\n",
       "      <td>0.009920</td>\n",
       "      <td>-0.007915</td>\n",
       "      <td>-0.007319</td>\n",
       "      <td>0.009479</td>\n",
       "      <td>-0.000532</td>\n",
       "    </tr>\n",
       "    <tr>\n",
       "      <th>amount</th>\n",
       "      <td>0.009920</td>\n",
       "      <td>1.000000</td>\n",
       "      <td>0.001059</td>\n",
       "      <td>-0.004594</td>\n",
       "      <td>0.214391</td>\n",
       "      <td>0.310118</td>\n",
       "    </tr>\n",
       "    <tr>\n",
       "      <th>oldbalanceOrg</th>\n",
       "      <td>-0.007915</td>\n",
       "      <td>0.001059</td>\n",
       "      <td>1.000000</td>\n",
       "      <td>0.999013</td>\n",
       "      <td>0.092490</td>\n",
       "      <td>0.063033</td>\n",
       "    </tr>\n",
       "    <tr>\n",
       "      <th>newbalanceOrig</th>\n",
       "      <td>-0.007319</td>\n",
       "      <td>-0.004594</td>\n",
       "      <td>0.999013</td>\n",
       "      <td>1.000000</td>\n",
       "      <td>0.094461</td>\n",
       "      <td>0.062757</td>\n",
       "    </tr>\n",
       "    <tr>\n",
       "      <th>oldbalanceDest</th>\n",
       "      <td>0.009479</td>\n",
       "      <td>0.214391</td>\n",
       "      <td>0.092490</td>\n",
       "      <td>0.094461</td>\n",
       "      <td>1.000000</td>\n",
       "      <td>0.983272</td>\n",
       "    </tr>\n",
       "    <tr>\n",
       "      <th>newbalanceDest</th>\n",
       "      <td>-0.000532</td>\n",
       "      <td>0.310118</td>\n",
       "      <td>0.063033</td>\n",
       "      <td>0.062757</td>\n",
       "      <td>0.983272</td>\n",
       "      <td>1.000000</td>\n",
       "    </tr>\n",
       "  </tbody>\n",
       "</table>\n",
       "</div>"
      ],
      "text/plain": [
       "                    step    amount  oldbalanceOrg  newbalanceOrig  \\\n",
       "step            1.000000  0.009920      -0.007915       -0.007319   \n",
       "amount          0.009920  1.000000       0.001059       -0.004594   \n",
       "oldbalanceOrg  -0.007915  0.001059       1.000000        0.999013   \n",
       "newbalanceOrig -0.007319 -0.004594       0.999013        1.000000   \n",
       "oldbalanceDest  0.009479  0.214391       0.092490        0.094461   \n",
       "newbalanceDest -0.000532  0.310118       0.063033        0.062757   \n",
       "\n",
       "                oldbalanceDest  newbalanceDest  \n",
       "step                  0.009479       -0.000532  \n",
       "amount                0.214391        0.310118  \n",
       "oldbalanceOrg         0.092490        0.063033  \n",
       "newbalanceOrig        0.094461        0.062757  \n",
       "oldbalanceDest        1.000000        0.983272  \n",
       "newbalanceDest        0.983272        1.000000  "
      ]
     },
     "execution_count": 9,
     "metadata": {},
     "output_type": "execute_result"
    }
   ],
   "source": [
    "# Correlation matrix\n",
    "\n",
    "corr_mat = x.corr()\n",
    "corr_mat"
   ]
  },
  {
   "cell_type": "code",
   "execution_count": 10,
   "id": "4fbb7b50-cd59-4aaf-ab82-21cece4b5d4e",
   "metadata": {},
   "outputs": [
    {
     "data": {
      "image/png": "[encoded data removed]",
      "text/plain": [
       "<Figure size 432x288 with 2 Axes>"
      ]
     },
     "metadata": {
      "needs_background": "light"
     },
     "output_type": "display_data"
    }
   ],
   "source": [
    "mask = corr_mat.abs() > 0.7\n",
    "\n",
    "sns.heatmap(mask, annot=True)\n",
    "plt.show()"
   ]
  },
  {
   "cell_type": "code",
   "execution_count": 11,
   "id": "da3aad83-485f-49f9-950d-8d43f44ed622",
   "metadata": {},
   "outputs": [
    {
     "data": {
      "text/html": [
       "<div>\n",
       "<style scoped>\n",
       "    .dataframe tbody tr th:only-of-type {\n",
       "        vertical-align: middle;\n",
       "    }\n",
       "\n",
       "    .dataframe tbody tr th {\n",
       "        vertical-align: top;\n",
       "    }\n",
       "\n",
       "    .dataframe thead th {\n",
       "        text-align: right;\n",
       "    }\n",
       "</style>\n",
       "<table border=\"1\" class=\"dataframe\">\n",
       "  <thead>\n",
       "    <tr style=\"text-align: right;\">\n",
       "      <th></th>\n",
       "      <th>CASH_IN</th>\n",
       "      <th>CASH_OUT</th>\n",
       "      <th>DEBIT</th>\n",
       "      <th>PAYMENT</th>\n",
       "      <th>TRANSFER</th>\n",
       "      <th>step</th>\n",
       "      <th>type</th>\n",
       "      <th>amount</th>\n",
       "      <th>nameOrig</th>\n",
       "      <th>oldbalanceOrg</th>\n",
       "      <th>newbalanceOrig</th>\n",
       "      <th>nameDest</th>\n",
       "      <th>oldbalanceDest</th>\n",
       "      <th>newbalanceDest</th>\n",
       "      <th>isFraud</th>\n",
       "    </tr>\n",
       "  </thead>\n",
       "  <tbody>\n",
       "    <tr>\n",
       "      <th>0</th>\n",
       "      <td>0</td>\n",
       "      <td>0</td>\n",
       "      <td>0</td>\n",
       "      <td>1</td>\n",
       "      <td>0</td>\n",
       "      <td>1</td>\n",
       "      <td>PAYMENT</td>\n",
       "      <td>9839.64</td>\n",
       "      <td>C1231006815</td>\n",
       "      <td>170136.0</td>\n",
       "      <td>160296.36</td>\n",
       "      <td>M1979787155</td>\n",
       "      <td>0.0</td>\n",
       "      <td>0.0</td>\n",
       "      <td>0</td>\n",
       "    </tr>\n",
       "    <tr>\n",
       "      <th>1</th>\n",
       "      <td>0</td>\n",
       "      <td>0</td>\n",
       "      <td>0</td>\n",
       "      <td>1</td>\n",
       "      <td>0</td>\n",
       "      <td>1</td>\n",
       "      <td>PAYMENT</td>\n",
       "      <td>1864.28</td>\n",
       "      <td>C1666544295</td>\n",
       "      <td>21249.0</td>\n",
       "      <td>19384.72</td>\n",
       "      <td>M2044282225</td>\n",
       "      <td>0.0</td>\n",
       "      <td>0.0</td>\n",
       "      <td>0</td>\n",
       "    </tr>\n",
       "    <tr>\n",
       "      <th>2</th>\n",
       "      <td>0</td>\n",
       "      <td>0</td>\n",
       "      <td>0</td>\n",
       "      <td>0</td>\n",
       "      <td>1</td>\n",
       "      <td>1</td>\n",
       "      <td>TRANSFER</td>\n",
       "      <td>181.00</td>\n",
       "      <td>C1305486145</td>\n",
       "      <td>181.0</td>\n",
       "      <td>0.00</td>\n",
       "      <td>C553264065</td>\n",
       "      <td>0.0</td>\n",
       "      <td>0.0</td>\n",
       "      <td>1</td>\n",
       "    </tr>\n",
       "    <tr>\n",
       "      <th>3</th>\n",
       "      <td>0</td>\n",
       "      <td>1</td>\n",
       "      <td>0</td>\n",
       "      <td>0</td>\n",
       "      <td>0</td>\n",
       "      <td>1</td>\n",
       "      <td>CASH_OUT</td>\n",
       "      <td>181.00</td>\n",
       "      <td>C840083671</td>\n",
       "      <td>181.0</td>\n",
       "      <td>0.00</td>\n",
       "      <td>C38997010</td>\n",
       "      <td>21182.0</td>\n",
       "      <td>0.0</td>\n",
       "      <td>1</td>\n",
       "    </tr>\n",
       "    <tr>\n",
       "      <th>4</th>\n",
       "      <td>0</td>\n",
       "      <td>0</td>\n",
       "      <td>0</td>\n",
       "      <td>1</td>\n",
       "      <td>0</td>\n",
       "      <td>1</td>\n",
       "      <td>PAYMENT</td>\n",
       "      <td>11668.14</td>\n",
       "      <td>C2048537720</td>\n",
       "      <td>41554.0</td>\n",
       "      <td>29885.86</td>\n",
       "      <td>M1230701703</td>\n",
       "      <td>0.0</td>\n",
       "      <td>0.0</td>\n",
       "      <td>0</td>\n",
       "    </tr>\n",
       "  </tbody>\n",
       "</table>\n",
       "</div>"
      ],
      "text/plain": [
       "   CASH_IN  CASH_OUT  DEBIT  PAYMENT  TRANSFER  step      type    amount  \\\n",
       "0        0         0      0        1         0     1   PAYMENT   9839.64   \n",
       "1        0         0      0        1         0     1   PAYMENT   1864.28   \n",
       "2        0         0      0        0         1     1  TRANSFER    181.00   \n",
       "3        0         1      0        0         0     1  CASH_OUT    181.00   \n",
       "4        0         0      0        1         0     1   PAYMENT  11668.14   \n",
       "\n",
       "      nameOrig  oldbalanceOrg  newbalanceOrig     nameDest  oldbalanceDest  \\\n",
       "0  C1231006815       170136.0       160296.36  M1979787155             0.0   \n",
       "1  C1666544295        21249.0        19384.72  M2044282225             0.0   \n",
       "2  C1305486145          181.0            0.00   C553264065             0.0   \n",
       "3   C840083671          181.0            0.00    C38997010         21182.0   \n",
       "4  C2048537720        41554.0        29885.86  M1230701703             0.0   \n",
       "\n",
       "   newbalanceDest  isFraud  \n",
       "0             0.0        0  \n",
       "1             0.0        0  \n",
       "2             0.0        1  \n",
       "3             0.0        1  \n",
       "4             0.0        0  "
      ]
     },
     "execution_count": 11,
     "metadata": {},
     "output_type": "execute_result"
    }
   ],
   "source": [
    "# One hot encoding\n",
    "\n",
    "dummies = pd.get_dummies(data['type'])\n",
    "data_new = pd.concat([dummies, data], axis=1)\n",
    "data_new.head()"
   ]
  },
  {
   "cell_type": "code",
   "execution_count": 12,
   "id": "e7fc317d-f189-40b5-a5bf-ee610ae0aff0",
   "metadata": {},
   "outputs": [],
   "source": [
    "x_new = data_new.drop([\"type\", \"isFraud\", \"nameOrig\", \"nameDest\"], axis=1)\n",
    "y_new = data_new['isFraud']"
   ]
  },
  {
   "cell_type": "code",
   "execution_count": 44,
   "id": "fbae335c-64cf-4a92-8471-c65805706107",
   "metadata": {},
   "outputs": [],
   "source": [
    "# Splitting the data\n",
    "\n",
    "from sklearn.model_selection import train_test_split\n",
    "\n",
    "xtrain, xtest, ytrain, ytest = train_test_split(x_new, y_new, test_size=0.1, stratify=y_new, random_state=42)"
   ]
  },
  {
   "cell_type": "code",
   "execution_count": 45,
   "id": "ed3309fd-dc0e-4e6d-b658-d2f1487ac880",
   "metadata": {},
   "outputs": [],
   "source": [
    "xtrain_sub, xtest_sub, ytrain_sub, ytest_sub = train_test_split(xtest, ytest, test_size=0.3, stratify=ytest, random_state=42)"
   ]
  },
  {
   "cell_type": "code",
   "execution_count": 15,
   "id": "352c01db-3546-4d01-96ad-ecba57e34881",
   "metadata": {},
   "outputs": [
    {
     "data": {
      "text/plain": [
       "0    183053\n",
       "1       187\n",
       "Name: isFraud, dtype: int64"
      ]
     },
     "execution_count": 15,
     "metadata": {},
     "output_type": "execute_result"
    }
   ],
   "source": [
    "ytest.value_counts()"
   ]
  },
  {
   "cell_type": "code",
   "execution_count": null,
   "id": "9f83a33b-6aa7-4857-8cda-35a8573c4a7c",
   "metadata": {},
   "outputs": [],
   "source": []
  },
  {
   "cell_type": "markdown",
   "id": "06dfee3f-c473-4036-ac14-1a909e301433",
   "metadata": {},
   "source": [
    "#### Note: The main aim of this business case is to classify a fraud as fraud (i.e reduce the False negatives)"
   ]
  },
  {
   "cell_type": "markdown",
   "id": "3da81552-bbc0-4839-a706-c0488fac61a9",
   "metadata": {},
   "source": [
    "#### Model 1 -> Create pipeline to determine the best ML Algo"
   ]
  },
  {
   "cell_type": "code",
   "execution_count": 16,
   "id": "8bcd4a09-5606-4cb0-9ff0-276aa25d9148",
   "metadata": {},
   "outputs": [],
   "source": [
    "from sklearn.model_selection import GridSearchCV\n",
    "from sklearn.pipeline import make_pipeline\n",
    "import xgboost as xgb\n",
    "from xgboost import XGBClassifier\n",
    "from sklearn.linear_model import LogisticRegression\n",
    "from sklearn.ensemble import RandomForestClassifier"
   ]
  },
  {
   "cell_type": "code",
   "execution_count": 17,
   "id": "a3e4bd35-b1a9-432b-920c-ee8cfea45a26",
   "metadata": {},
   "outputs": [],
   "source": [
    "pipelines = {\n",
    "    \"XGB\": make_pipeline(xgb.XGBClassifier(objective='binary:logistic')),\n",
    "    \"LR\": make_pipeline(LogisticRegression()),\n",
    "    \"RF\": make_pipeline(RandomForestClassifier())\n",
    "}\n",
    "# pipelines"
   ]
  },
  {
   "cell_type": "code",
   "execution_count": 18,
   "id": "d5a611b8-873f-458b-a689-4c193c4eabdb",
   "metadata": {},
   "outputs": [],
   "source": [
    "hyper_para = {\n",
    "    \"XGB\": {\n",
    "        \"xgbclassifier__scale_pos_weight\": [500, 1200],\n",
    "        \"xgbclassifier__max_depth\": [4,5]\n",
    "    },\n",
    "    \"LR\": {\n",
    "        \"logisticregression__C\": [0.1, 1, 10],\n",
    "    },\n",
    "    \"RF\": {\n",
    "        \"randomforestclassifier__max_depth\": [4,5]\n",
    "    }\n",
    "}"
   ]
  },
  {
   "cell_type": "code",
   "execution_count": 19,
   "id": "ff274b8e-d95b-4801-ad28-ba27e854a825",
   "metadata": {},
   "outputs": [],
   "source": [
    "from sklearn.model_selection import GridSearchCV\n",
    "from sklearn.exceptions import NotFittedError"
   ]
  },
  {
   "cell_type": "code",
   "execution_count": 20,
   "id": "812c8bc3-4c54-494e-b54b-07dfeb174ae9",
   "metadata": {},
   "outputs": [
    {
     "name": "stdout",
     "output_type": "stream",
     "text": [
      "Started training for XGB\n",
      " XGB has been successfully fit\n",
      " Best params of XGB : {'xgbclassifier__max_depth': 4, 'xgbclassifier__scale_pos_weight': 500}\n",
      "Started training for LR\n",
      " LR has been successfully fit\n",
      " Best params of LR : {'logisticregression__C': 0.1}\n",
      "Started training for RF\n",
      " RF has been successfully fit\n",
      " Best params of RF : {'randomforestclassifier__max_depth': 5}\n"
     ]
    }
   ],
   "source": [
    "fit_models = {}\n",
    "\n",
    "for algo, pipeline in pipelines.items():\n",
    "    model = GridSearchCV(pipeline, hyper_para[algo], cv=2)\n",
    "    try:\n",
    "        print(\"Started training for {}\".format(algo))\n",
    "        model.fit(xtrain_sub, ytrain_sub)\n",
    "        best_para = model.best_params_\n",
    "        fit_models[algo] = model\n",
    "        print(\" {} has been successfully fit\".format(algo))\n",
    "        print(\" Best params of\", algo, \":\", best_para)\n",
    "    except NotFittedError as e:\n",
    "        print(repr(e))\n",
    "        "
   ]
  },
  {
   "cell_type": "code",
   "execution_count": 21,
   "id": "b8af1671-ad10-4f79-b48f-59046a45d9c5",
   "metadata": {},
   "outputs": [],
   "source": [
    "# Testing the models\n",
    "\n",
    "from sklearn.metrics import classification_report, confusion_matrix, accuracy_score"
   ]
  },
  {
   "cell_type": "code",
   "execution_count": 22,
   "id": "5ead997e-74d5-4ff0-82ee-4382cf1cacb7",
   "metadata": {},
   "outputs": [
    {
     "name": "stdout",
     "output_type": "stream",
     "text": [
      "XGB accuracy score: 0.9995997962599141\n",
      "LR accuracy score: 0.9986356690678891\n",
      "RF accuracy score: 0.9993633122316816\n"
     ]
    }
   ],
   "source": [
    "for algo, model in fit_models.items():\n",
    "    best_model = model.best_estimator_\n",
    "    yhat = best_model.predict(xtest_sub)\n",
    "    print(\"{} accuracy score: {}\". format(algo, accuracy_score(ytest_sub, yhat)))\n",
    "    "
   ]
  },
  {
   "cell_type": "code",
   "execution_count": 23,
   "id": "decbdc91-bc21-434e-9b22-ffe7ea45150d",
   "metadata": {},
   "outputs": [
    {
     "name": "stdout",
     "output_type": "stream",
     "text": [
      "[[54902    14]\n",
      " [    8    48]]\n"
     ]
    }
   ],
   "source": [
    "# Further tuning the model fo our requirement -> Reduce the number of false negatives\n",
    "\n",
    "best_xgb = fit_models['XGB'].best_estimator_\n",
    "yhat_new = best_xgb.predict(xtest_sub)\n",
    "print(confusion_matrix(ytest_sub, yhat_new))"
   ]
  },
  {
   "cell_type": "code",
   "execution_count": 24,
   "id": "3a31f7b7-c03f-45c2-a3b4-3e6052704382",
   "metadata": {},
   "outputs": [
    {
     "name": "stdout",
     "output_type": "stream",
     "text": [
      "              precision    recall  f1-score   support\n",
      "\n",
      "           0       1.00      1.00      1.00     54916\n",
      "           1       0.77      0.86      0.81        56\n",
      "\n",
      "    accuracy                           1.00     54972\n",
      "   macro avg       0.89      0.93      0.91     54972\n",
      "weighted avg       1.00      1.00      1.00     54972\n",
      "\n"
     ]
    }
   ],
   "source": [
    "print(classification_report(ytest_sub, yhat_new))"
   ]
  },
  {
   "cell_type": "raw",
   "id": "b79a8bd6-b270-45ed-828e-b308df5009ba",
   "metadata": {},
   "source": [
    "For a model which classifies the fraud detection. It is important that the False negatives are as low as possible.\n",
    "Now let us very the threshold to get the lowest possible False negatives"
   ]
  },
  {
   "cell_type": "code",
   "execution_count": 25,
   "id": "319ae26a-e26c-49fb-86f6-7cd6483d0881",
   "metadata": {},
   "outputs": [
    {
     "data": {
      "text/plain": [
       "0    54916\n",
       "1       56\n",
       "Name: isFraud, dtype: int64"
      ]
     },
     "execution_count": 25,
     "metadata": {},
     "output_type": "execute_result"
    }
   ],
   "source": [
    "ytest_sub.value_counts()"
   ]
  },
  {
   "cell_type": "code",
   "execution_count": 26,
   "id": "18497ec7-9ad8-4709-b0c9-9aaa008cb8d2",
   "metadata": {},
   "outputs": [
    {
     "name": "stdout",
     "output_type": "stream",
     "text": [
      "for threshold 0.2\n",
      "Accuracy is 0.99950884086444\n",
      "[[54896    20]\n",
      " [    7    49]]\n",
      "========================================\n",
      "for threshold 0.25\n",
      "Accuracy is 0.9995634141017246\n",
      "[[54899    17]\n",
      " [    7    49]]\n",
      "========================================\n",
      "for threshold 0.3\n",
      "Accuracy is 0.9995816051808193\n",
      "[[54900    16]\n",
      " [    7    49]]\n",
      "========================================\n",
      "for threshold 0.35\n",
      "Accuracy is 0.9995816051808193\n",
      "[[54900    16]\n",
      " [    7    49]]\n",
      "========================================\n",
      "for threshold 0.4\n",
      "Accuracy is 0.9995816051808193\n",
      "[[54900    16]\n",
      " [    7    49]]\n",
      "========================================\n",
      "for threshold 0.45\n",
      "Accuracy is 0.9995816051808193\n",
      "[[54900    16]\n",
      " [    7    49]]\n",
      "========================================\n",
      "for threshold 0.5\n",
      "Accuracy is 0.9995997962599141\n",
      "[[54902    14]\n",
      " [    8    48]]\n",
      "========================================\n",
      "for threshold 0.55\n",
      "Accuracy is 0.999617987339009\n",
      "[[54903    13]\n",
      " [    8    48]]\n",
      "========================================\n",
      "for threshold 0.6\n",
      "Accuracy is 0.9996907516553882\n",
      "[[54907     9]\n",
      " [    8    48]]\n",
      "========================================\n",
      "for threshold 0.65\n",
      "Accuracy is 0.9997271338135778\n",
      "[[54909     7]\n",
      " [    8    48]]\n",
      "========================================\n",
      "for threshold 0.7\n",
      "Accuracy is 0.9997635159717675\n",
      "[[54911     5]\n",
      " [    8    48]]\n",
      "========================================\n",
      "for threshold 0.75\n",
      "Accuracy is 0.9997817070508622\n",
      "[[54912     4]\n",
      " [    8    48]]\n",
      "========================================\n",
      "for threshold 0.8\n",
      "Accuracy is 0.9997817070508622\n",
      "[[54912     4]\n",
      " [    8    48]]\n",
      "========================================\n"
     ]
    }
   ],
   "source": [
    "pred_prob = pd.DataFrame(best_xgb.predict_proba(xtest_sub)[:,1])\n",
    "\n",
    "threshold = [0.2, 0.25, 0.3, 0.35, 0.4, 0.45, 0.5, 0.55, 0.6, 0.65, 0.7, 0.75, 0.8]\n",
    "ypred = pd.DataFrame()\n",
    "\n",
    "for i in threshold:\n",
    "    print(\"for threshold {}\".format(i))\n",
    "    ypred = pred_prob.applymap(lambda x:1 if x>i else 0)\n",
    "    acc = accuracy_score(ytest_sub, ypred)\n",
    "    print(\"Accuracy is {}\".format(acc))\n",
    "    print(confusion_matrix(ytest_sub, ypred))\n",
    "    print(\"========================================\")"
   ]
  },
  {
   "cell_type": "code",
   "execution_count": null,
   "id": "f4f8c917-9097-478a-886e-12ffec8d6ad5",
   "metadata": {},
   "outputs": [],
   "source": []
  },
  {
   "cell_type": "markdown",
   "id": "d03af60c-740e-4a8d-8211-c89fc95ac3e8",
   "metadata": {},
   "source": [
    "#### Model 2 -> Resample the data to adjust the imbalanced target feature"
   ]
  },
  {
   "cell_type": "code",
   "execution_count": 27,
   "id": "34f24591-923e-41b7-ad39-edc2ce634c10",
   "metadata": {},
   "outputs": [
    {
     "data": {
      "text/plain": [
       "0    128137\n",
       "1    128137\n",
       "Name: isFraud, dtype: int64"
      ]
     },
     "execution_count": 27,
     "metadata": {},
     "output_type": "execute_result"
    }
   ],
   "source": [
    "from imblearn.over_sampling import SMOTE\n",
    "smote = SMOTE(random_state=42)\n",
    "\n",
    "x_smote, y_smote = smote.fit_resample(xtrain_sub, ytrain_sub)\n",
    "y_smote.value_counts()\n",
    "\n",
    "# from imblearn.under_sampling import RandomUnderSampler\n",
    "# rus = RandomUnderSampler(random_state=42)\n",
    "\n",
    "# x_rus, y_rus = rus.fit_resample(xtrain_sub, ytrain_sub)\n",
    "# y_rus.value_counts()"
   ]
  },
  {
   "cell_type": "code",
   "execution_count": 28,
   "id": "300fe000-65da-4532-9fd3-d681a7f51e45",
   "metadata": {},
   "outputs": [],
   "source": [
    "pipelines2 = {\n",
    "    \"XGB\": make_pipeline(xgb.XGBClassifier(objective='binary:logistic')),\n",
    "    \"LR\": make_pipeline(LogisticRegression()),\n",
    "    \"RF\": make_pipeline(RandomForestClassifier())\n",
    "}"
   ]
  },
  {
   "cell_type": "code",
   "execution_count": 29,
   "id": "3a1a524d-78ba-4cbb-bcd4-bb1d8d977838",
   "metadata": {},
   "outputs": [],
   "source": [
    "hyper_para2 = {\n",
    "    \"XGB\": {\n",
    "        \"xgbclassifier__max_depth\": [4,5]\n",
    "    },\n",
    "    \"LR\": {\n",
    "        \"logisticregression__C\": [0.1, 1, 10],\n",
    "    },\n",
    "    \"RF\": {\n",
    "        \"randomforestclassifier__max_depth\": [4,5]\n",
    "    }\n",
    "}"
   ]
  },
  {
   "cell_type": "code",
   "execution_count": 30,
   "id": "10cc05fd-a4e2-40e7-b8f6-8992fa7a17d4",
   "metadata": {},
   "outputs": [
    {
     "name": "stdout",
     "output_type": "stream",
     "text": [
      "Started training for XGB\n",
      " XGB has been successfully fit\n",
      " Best params of XGB : {'xgbclassifier__max_depth': 5}\n",
      "Started training for LR\n",
      " LR has been successfully fit\n",
      " Best params of LR : {'logisticregression__C': 0.1}\n",
      "Started training for RF\n",
      " RF has been successfully fit\n",
      " Best params of RF : {'randomforestclassifier__max_depth': 5}\n"
     ]
    }
   ],
   "source": [
    "fit_models2 = {}\n",
    "\n",
    "for algo, pipeline in pipelines2.items():\n",
    "    model = GridSearchCV(pipeline, hyper_para2[algo], cv=2)\n",
    "    try:\n",
    "        print(\"Started training for {}\".format(algo))\n",
    "        model.fit(x_smote, y_smote)\n",
    "        best_para = model.best_params_\n",
    "        fit_models2[algo] = model\n",
    "        print(\" {} has been successfully fit\".format(algo))\n",
    "        print(\" Best params of\", algo, \":\", best_para)\n",
    "    except NotFittedError as e:\n",
    "        print(repr(e))"
   ]
  },
  {
   "cell_type": "code",
   "execution_count": 31,
   "id": "62688033-1372-4dc3-9ff2-421a024a24e7",
   "metadata": {},
   "outputs": [
    {
     "name": "stdout",
     "output_type": "stream",
     "text": [
      "[[54902    14]\n",
      " [    8    48]]\n"
     ]
    }
   ],
   "source": [
    "best_xgb2 = fit_models2['XGB'].best_estimator_\n",
    "yhat_new = best_xgb.predict(xtest_sub)\n",
    "print(confusion_matrix(ytest_sub, yhat_new))"
   ]
  },
  {
   "cell_type": "code",
   "execution_count": null,
   "id": "86529fc8-bba7-43e5-a23c-4be4fad3573f",
   "metadata": {},
   "outputs": [],
   "source": []
  },
  {
   "cell_type": "markdown",
   "id": "77388e76-8cb7-4147-88a0-1f54ddd4861e",
   "metadata": {},
   "source": [
    "#### Model 3 -> Ensemble method (Voting classifier)"
   ]
  },
  {
   "cell_type": "code",
   "execution_count": 32,
   "id": "304d7809-a810-431b-a840-791728149e3f",
   "metadata": {},
   "outputs": [],
   "source": [
    "from sklearn.ensemble import VotingClassifier\n",
    "\n",
    "rfc = RandomForestClassifier(random_state=42, max_depth=5)\n",
    "xgb = XGBClassifier(objective='binary:logistic',random_state=42, max_depth=5, scale_pos_weight=1200)\n",
    "lr = LogisticRegression(C=0.1)\n",
    "\n",
    "voting = VotingClassifier(estimators=[('rf',rfc),('xgb',xgb),('lr',lr)], voting='soft')"
   ]
  },
  {
   "cell_type": "code",
   "execution_count": 33,
   "id": "3a95778b-07dc-4b9f-802d-7c4f4fe76db9",
   "metadata": {},
   "outputs": [
    {
     "name": "stdout",
     "output_type": "stream",
     "text": [
      "[[54916     0]\n",
      " [   23    33]]\n"
     ]
    }
   ],
   "source": [
    "voting.fit(xtrain_sub, ytrain_sub)\n",
    "ypred3 = voting.predict(xtest_sub)\n",
    "print(confusion_matrix(ytest_sub, ypred3))"
   ]
  },
  {
   "cell_type": "code",
   "execution_count": 34,
   "id": "9e0b8290-ea71-464e-8a5d-b4e629781c6a",
   "metadata": {},
   "outputs": [
    {
     "name": "stdout",
     "output_type": "stream",
     "text": [
      "for threshold 0.1\n",
      "Accuracy is 0.9997817070508622\n",
      "[[54818    98]\n",
      " [    7    49]]\n",
      "========================================\n",
      "for threshold 0.2\n",
      "Accuracy is 0.9997817070508622\n",
      "[[54870    46]\n",
      " [    7    49]]\n",
      "========================================\n",
      "for threshold 0.3\n",
      "Accuracy is 0.9997817070508622\n",
      "[[54899    17]\n",
      " [    8    48]]\n",
      "========================================\n",
      "for threshold 0.35\n",
      "Accuracy is 0.9997817070508622\n",
      "[[54913     3]\n",
      " [   10    46]]\n",
      "========================================\n",
      "for threshold 0.4\n",
      "Accuracy is 0.9997817070508622\n",
      "[[54916     0]\n",
      " [   11    45]]\n",
      "========================================\n",
      "for threshold 0.45\n",
      "Accuracy is 0.9997817070508622\n",
      "[[54916     0]\n",
      " [   20    36]]\n",
      "========================================\n",
      "for threshold 0.5\n",
      "Accuracy is 0.9997817070508622\n",
      "[[54916     0]\n",
      " [   23    33]]\n",
      "========================================\n",
      "for threshold 0.55\n",
      "Accuracy is 0.9997817070508622\n",
      "[[54916     0]\n",
      " [   26    30]]\n",
      "========================================\n",
      "for threshold 0.6\n",
      "Accuracy is 0.9997817070508622\n",
      "[[54916     0]\n",
      " [   26    30]]\n",
      "========================================\n",
      "for threshold 0.65\n",
      "Accuracy is 0.9997817070508622\n",
      "[[54916     0]\n",
      " [   27    29]]\n",
      "========================================\n",
      "for threshold 0.7\n",
      "Accuracy is 0.9997817070508622\n",
      "[[54916     0]\n",
      " [   30    26]]\n",
      "========================================\n",
      "for threshold 0.75\n",
      "Accuracy is 0.9997817070508622\n",
      "[[54916     0]\n",
      " [   31    25]]\n",
      "========================================\n",
      "for threshold 0.8\n",
      "Accuracy is 0.9997817070508622\n",
      "[[54916     0]\n",
      " [   32    24]]\n",
      "========================================\n"
     ]
    }
   ],
   "source": [
    "pred_prob3 = pd.DataFrame(voting.predict_proba(xtest_sub)[:,1])\n",
    "\n",
    "threshold = [0.1,0.2, 0.3, 0.35, 0.4, 0.45, 0.5, 0.55, 0.6, 0.65, 0.7, 0.75, 0.8]\n",
    "\n",
    "for i in threshold:\n",
    "    print(\"for threshold {}\".format(i))\n",
    "    ypred3 = pred_prob3.applymap(lambda x:1 if x>i else 0)\n",
    "    acc = accuracy_score(ytest_sub, ypred)\n",
    "    print(\"Accuracy is {}\".format(acc))\n",
    "    print(confusion_matrix(ytest_sub, ypred3))\n",
    "    print(\"========================================\")"
   ]
  },
  {
   "cell_type": "code",
   "execution_count": null,
   "id": "41c488ea-276a-4f9b-bddb-a06e6311f2eb",
   "metadata": {},
   "outputs": [],
   "source": []
  },
  {
   "cell_type": "markdown",
   "id": "72f90bd2-ae78-406c-ba4b-c26e80670f71",
   "metadata": {},
   "source": [
    "#### Model 4 -> Bagging classifier"
   ]
  },
  {
   "cell_type": "code",
   "execution_count": 46,
   "id": "9f147a22-feb4-4baf-bd63-f349c9b7ef03",
   "metadata": {},
   "outputs": [
    {
     "name": "stdout",
     "output_type": "stream",
     "text": [
      "[[54912     4]\n",
      " [   13    43]]\n"
     ]
    }
   ],
   "source": [
    "from sklearn.ensemble import BaggingClassifier\n",
    "\n",
    "xgb = XGBClassifier(objective='binary:logistic',random_state=42, max_depth=5, scale_pos_weight=1000)\n",
    "\n",
    "bag_model = BaggingClassifier(xgb, n_estimators=10, max_samples=0.8, random_state=42)\n",
    "bag_model.fit(xtrain_sub, ytrain_sub)\n",
    "ypred4 = bag_model.predict(xtest_sub)\n",
    "print(confusion_matrix(ytest_sub, ypred4))"
   ]
  },
  {
   "cell_type": "code",
   "execution_count": 74,
   "id": "a890bad8-043b-4ba3-a885-9a6ef6703a75",
   "metadata": {},
   "outputs": [
    {
     "name": "stdout",
     "output_type": "stream",
     "text": [
      "for threshold 0.005\n",
      "Accuracy is 0.9966710325256494\n",
      "[[54734   182]\n",
      " [    1    55]]\n",
      "========================================\n",
      "for threshold 0.1\n",
      "Accuracy is 0.9995452230226297\n",
      "[[54895    21]\n",
      " [    4    52]]\n",
      "========================================\n",
      "for threshold 0.2\n",
      "Accuracy is 0.9997453248926726\n",
      "[[54906    10]\n",
      " [    4    52]]\n",
      "========================================\n",
      "for threshold 0.3\n",
      "Accuracy is 0.9997817070508622\n",
      "[[54910     6]\n",
      " [    6    50]]\n",
      "========================================\n",
      "for threshold 0.35\n",
      "Accuracy is 0.9998362802881466\n",
      "[[54914     2]\n",
      " [    7    49]]\n",
      "========================================\n",
      "for threshold 0.4\n",
      "Accuracy is 0.9998544713672415\n",
      "[[54915     1]\n",
      " [    7    49]]\n",
      "========================================\n",
      "for threshold 0.45\n",
      "Accuracy is 0.9998544713672415\n",
      "[[54915     1]\n",
      " [    7    49]]\n",
      "========================================\n",
      "for threshold 0.5\n",
      "Accuracy is 0.9998544713672415\n",
      "[[54915     1]\n",
      " [    7    49]]\n",
      "========================================\n",
      "for threshold 0.55\n",
      "Accuracy is 0.9998362802881466\n",
      "[[54915     1]\n",
      " [    8    48]]\n",
      "========================================\n",
      "for threshold 0.6\n",
      "Accuracy is 0.9998362802881466\n",
      "[[54916     0]\n",
      " [    9    47]]\n",
      "========================================\n",
      "for threshold 0.65\n",
      "Accuracy is 0.9997817070508622\n",
      "[[54916     0]\n",
      " [   12    44]]\n",
      "========================================\n",
      "for threshold 0.7\n",
      "Accuracy is 0.9997453248926726\n",
      "[[54916     0]\n",
      " [   14    42]]\n",
      "========================================\n",
      "for threshold 0.75\n",
      "Accuracy is 0.9997453248926726\n",
      "[[54916     0]\n",
      " [   14    42]]\n",
      "========================================\n",
      "for threshold 0.8\n",
      "Accuracy is 0.9996907516553882\n",
      "[[54916     0]\n",
      " [   17    39]]\n",
      "========================================\n"
     ]
    }
   ],
   "source": [
    "pred_prob4 = pd.DataFrame(bag_model.predict_proba(xtest_sub)[:,1])\n",
    "\n",
    "threshold = [0.005,0.1,0.2, 0.3, 0.35, 0.4, 0.45, 0.5, 0.55, 0.6, 0.65, 0.7, 0.75, 0.8]\n",
    "\n",
    "for i in threshold:\n",
    "    print(\"for threshold {}\".format(i))\n",
    "    ypred4 = pred_prob4.applymap(lambda x:1 if x>i else 0)\n",
    "    acc = accuracy_score(ytest_sub, ypred4)\n",
    "    print(\"Accuracy is {}\".format(acc))\n",
    "    print(confusion_matrix(ytest_sub, ypred4))\n",
    "    print(\"========================================\")"
   ]
  },
  {
   "cell_type": "markdown",
   "id": "a66aa1b4-1fe8-43c8-bbe8-2f23bf2162cc",
   "metadata": {},
   "source": [
    "#### Cross validate to confirm the model-4"
   ]
  },
  {
   "cell_type": "code",
   "execution_count": 75,
   "id": "c24febc0-a220-4bdd-8904-c523a48b89fb",
   "metadata": {},
   "outputs": [
    {
     "name": "stdout",
     "output_type": "stream",
     "text": [
      "[[54734   182]\n",
      " [    1    55]]\n",
      "[[54765   151]\n",
      " [    0    56]]\n",
      "[[54752   164]\n",
      " [    0    56]]\n",
      "[[54745   171]\n",
      " [    1    55]]\n",
      "[[54730   186]\n",
      " [    3    53]]\n"
     ]
    }
   ],
   "source": [
    "from sklearn.model_selection import cross_val_score, StratifiedShuffleSplit\n",
    "\n",
    "cv = StratifiedShuffleSplit(n_splits=5, test_size=0.3, random_state=42)\n",
    "\n",
    "for train_index, test_index in cv.split(xtest, ytest):\n",
    "    xtrain_fold, xtest_fold = xtest.iloc[train_index], xtest.iloc[test_index]\n",
    "    ytrain_fold, ytest_fold = ytest.iloc[train_index], ytest.iloc[test_index]\n",
    "    \n",
    "    # bag_model.fit(xtrain_fold, ytrain_fold)\n",
    "    # ypred_fold = bag_model.predict(xtest_fold)\n",
    "    \n",
    "    pred_prob = pd.DataFrame(bag_model.predict_proba(xtest_fold)[:,1])\n",
    "    ypred = pred_prob.applymap(lambda x:1 if x>0.005 else 0)\n",
    "    \n",
    "    print(confusion_matrix(ytest_fold, ypred))"
   ]
  },
  {
   "cell_type": "code",
   "execution_count": null,
   "id": "a158d56b-4249-4426-aa82-7131e1b8b2f9",
   "metadata": {},
   "outputs": [],
   "source": []
  },
  {
   "cell_type": "markdown",
   "id": "34596b68-5c6b-4c8e-b1b0-6038fb3e72b6",
   "metadata": {},
   "source": [
    "#### Final result -> Therefore the best model is acheived by bagging the xgboost and setting a threshold of 0.002"
   ]
  },
  {
   "cell_type": "code",
   "execution_count": null,
   "id": "0a70e04c-3f20-439b-934a-5b1dbb7fb79b",
   "metadata": {},
   "outputs": [],
   "source": []
  }
 ],
 "metadata": {
  "kernelspec": {
   "display_name": "Python 3 [3.10]",
   "language": "python",
   "name": "python3"
  },
  "language_info": {
   "codemirror_mode": {
    "name": "ipython",
    "version": 3
   },
   "file_extension": ".py",
   "mimetype": "text/x-python",
   "name": "python",
   "nbconvert_exporter": "python",
   "pygments_lexer": "ipython3",
   "version": "3.10.2"
  }
 },
 "nbformat": 4,
 "nbformat_minor": 5
}
